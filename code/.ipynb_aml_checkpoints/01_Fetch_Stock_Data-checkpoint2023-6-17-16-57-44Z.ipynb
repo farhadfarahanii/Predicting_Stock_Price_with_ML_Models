{
  "cells": [
    {
      "cell_type": "code",
      "source": [
        "from azure.ai.ml import MLClient\r\n",
        "from azure.identity import DefaultAzureCredential\r\n",
        "from azure.ai.ml.entities import Data\r\n",
        "from azure.ai.ml.constants import AssetTypes\r\n",
        "\r\n",
        "# authenticate\r\n",
        "credential = DefaultAzureCredential()\r\n",
        "\r\n",
        "# Get a handle to the workspace\r\n",
        "ml_client = MLClient(\r\n",
        "    credential=credential,\r\n",
        "    subscription_id=\"78f4f5a7-9c4c-42c2-961b-875b0266bee5\",\r\n",
        "    resource_group_name=\"momenifarahani.farhad-rg\",\r\n",
        "    workspace_name=\"farhad-2023\",\r\n",
        ")"
      ],
      "outputs": [],
      "execution_count": 8,
      "metadata": {
        "gather": {
          "logged": 1689136580703
        }
      }
    },
    {
      "cell_type": "code",
      "source": [
        "# Import initials\r\n",
        "import yfinance as yf\r\n",
        "import pandas as pd"
      ],
      "outputs": [],
      "execution_count": 9,
      "metadata": {
        "jupyter": {
          "source_hidden": false,
          "outputs_hidden": false
        },
        "nteract": {
          "transient": {
            "deleting": false
          }
        },
        "gather": {
          "logged": 1689136582328
        }
      }
    },
    {
      "cell_type": "code",
      "source": [
        "# Fetch all apple stock price information\r\n",
        "apple=yf.Ticker('AAPL')\r\n",
        "apple_df=apple.history(period=\"max\")\r\n",
        "apple_df.reset_index(inplace=True)\r\n",
        "apple_df.head()"
      ],
      "outputs": [
        {
          "output_type": "execute_result",
          "execution_count": 10,
          "data": {
            "text/plain": "                       Date      Open      High       Low     Close  \\\n0 1980-12-12 00:00:00-05:00  0.099584  0.100017  0.099584  0.099584   \n1 1980-12-15 00:00:00-05:00  0.094821  0.094821  0.094388  0.094388   \n2 1980-12-16 00:00:00-05:00  0.087894  0.087894  0.087461  0.087461   \n3 1980-12-17 00:00:00-05:00  0.089625  0.090058  0.089625  0.089625   \n4 1980-12-18 00:00:00-05:00  0.092224  0.092657  0.092224  0.092224   \n\n      Volume  Dividends  Stock Splits  \n0  469033600        0.0           0.0  \n1  175884800        0.0           0.0  \n2  105728000        0.0           0.0  \n3   86441600        0.0           0.0  \n4   73449600        0.0           0.0  ",
            "text/html": "<div>\n<style scoped>\n    .dataframe tbody tr th:only-of-type {\n        vertical-align: middle;\n    }\n\n    .dataframe tbody tr th {\n        vertical-align: top;\n    }\n\n    .dataframe thead th {\n        text-align: right;\n    }\n</style>\n<table border=\"1\" class=\"dataframe\">\n  <thead>\n    <tr style=\"text-align: right;\">\n      <th></th>\n      <th>Date</th>\n      <th>Open</th>\n      <th>High</th>\n      <th>Low</th>\n      <th>Close</th>\n      <th>Volume</th>\n      <th>Dividends</th>\n      <th>Stock Splits</th>\n    </tr>\n  </thead>\n  <tbody>\n    <tr>\n      <th>0</th>\n      <td>1980-12-12 00:00:00-05:00</td>\n      <td>0.099584</td>\n      <td>0.100017</td>\n      <td>0.099584</td>\n      <td>0.099584</td>\n      <td>469033600</td>\n      <td>0.0</td>\n      <td>0.0</td>\n    </tr>\n    <tr>\n      <th>1</th>\n      <td>1980-12-15 00:00:00-05:00</td>\n      <td>0.094821</td>\n      <td>0.094821</td>\n      <td>0.094388</td>\n      <td>0.094388</td>\n      <td>175884800</td>\n      <td>0.0</td>\n      <td>0.0</td>\n    </tr>\n    <tr>\n      <th>2</th>\n      <td>1980-12-16 00:00:00-05:00</td>\n      <td>0.087894</td>\n      <td>0.087894</td>\n      <td>0.087461</td>\n      <td>0.087461</td>\n      <td>105728000</td>\n      <td>0.0</td>\n      <td>0.0</td>\n    </tr>\n    <tr>\n      <th>3</th>\n      <td>1980-12-17 00:00:00-05:00</td>\n      <td>0.089625</td>\n      <td>0.090058</td>\n      <td>0.089625</td>\n      <td>0.089625</td>\n      <td>86441600</td>\n      <td>0.0</td>\n      <td>0.0</td>\n    </tr>\n    <tr>\n      <th>4</th>\n      <td>1980-12-18 00:00:00-05:00</td>\n      <td>0.092224</td>\n      <td>0.092657</td>\n      <td>0.092224</td>\n      <td>0.092224</td>\n      <td>73449600</td>\n      <td>0.0</td>\n      <td>0.0</td>\n    </tr>\n  </tbody>\n</table>\n</div>"
          },
          "metadata": {}
        }
      ],
      "execution_count": 10,
      "metadata": {
        "jupyter": {
          "source_hidden": false,
          "outputs_hidden": false
        },
        "nteract": {
          "transient": {
            "deleting": false
          }
        },
        "gather": {
          "logged": 1689136584209
        }
      }
    },
    {
      "cell_type": "code",
      "source": [],
      "outputs": [],
      "execution_count": null,
      "metadata": {
        "jupyter": {
          "source_hidden": false,
          "outputs_hidden": false
        },
        "nteract": {
          "transient": {
            "deleting": false
          }
        }
      }
    }
  ],
  "metadata": {
    "kernelspec": {
      "name": "python38-azureml",
      "language": "python",
      "display_name": "Python 3.8 - AzureML"
    },
    "language_info": {
      "name": "python",
      "version": "3.8.5",
      "mimetype": "text/x-python",
      "codemirror_mode": {
        "name": "ipython",
        "version": 3
      },
      "pygments_lexer": "ipython3",
      "nbconvert_exporter": "python",
      "file_extension": ".py"
    },
    "microsoft": {
      "ms_spell_check": {
        "ms_spell_check_language": "en"
      },
      "host": {
        "AzureML": {
          "notebookHasBeenCompleted": true
        }
      }
    },
    "kernel_info": {
      "name": "python38-azureml"
    },
    "nteract": {
      "version": "nteract-front-end@1.0.0"
    }
  },
  "nbformat": 4,
  "nbformat_minor": 2
}