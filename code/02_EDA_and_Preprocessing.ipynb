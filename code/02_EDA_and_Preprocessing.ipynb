{
  "cells": [
    {
      "cell_type": "code",
      "source": [
        "from azure.ai.ml import MLClient\r\n",
        "from azure.identity import DefaultAzureCredential\r\n",
        "from azure.ai.ml.entities import Data\r\n",
        "from azure.ai.ml.constants import AssetTypes\r\n",
        "\r\n",
        "# authenticate\r\n",
        "credential = DefaultAzureCredential()\r\n",
        "\r\n",
        "# Get a handle to the workspace\r\n",
        "ml_client = MLClient(\r\n",
        "    credential=credential,\r\n",
        "    subscription_id=\"78f4f5a7-9c4c-42c2-961b-875b0266bee5\",\r\n",
        "    resource_group_name=\"momenifarahani.farhad-rg\",\r\n",
        "    workspace_name=\"farhad-2023\",\r\n",
        ")"
      ],
      "outputs": [],
      "execution_count": 1,
      "metadata": {
        "jupyter": {
          "source_hidden": false,
          "outputs_hidden": false
        },
        "nteract": {
          "transient": {
            "deleting": false
          }
        },
        "gather": {
          "logged": 1689649631576
        }
      }
    },
    {
      "cell_type": "code",
      "source": [
        "import pandas as pd\r\n",
        "import numpy as np\r\n",
        "import matplotlib.pyplot as plt"
      ],
      "outputs": [],
      "execution_count": 2,
      "metadata": {
        "gather": {
          "logged": 1689649632220
        }
      }
    },
    {
      "cell_type": "code",
      "source": [
        "apple = pd.read_csv('../data/apple_stock_raw.csv')\r\n",
        "apple.head()"
      ],
      "outputs": [
        {
          "output_type": "execute_result",
          "execution_count": 3,
          "data": {
            "text/plain": "                        Date      Open      High       Low     Close   \n0  1980-12-12 00:00:00-05:00  0.099584  0.100017  0.099584  0.099584  \\\n1  1980-12-15 00:00:00-05:00  0.094821  0.094821  0.094388  0.094388   \n2  1980-12-16 00:00:00-05:00  0.087893  0.087893  0.087461  0.087461   \n3  1980-12-17 00:00:00-05:00  0.089625  0.090058  0.089625  0.089625   \n4  1980-12-18 00:00:00-05:00  0.092224  0.092657  0.092224  0.092224   \n\n      Volume  Dividends  Stock Splits  \n0  469033600        0.0           0.0  \n1  175884800        0.0           0.0  \n2  105728000        0.0           0.0  \n3   86441600        0.0           0.0  \n4   73449600        0.0           0.0  ",
            "text/html": "<div>\n<style scoped>\n    .dataframe tbody tr th:only-of-type {\n        vertical-align: middle;\n    }\n\n    .dataframe tbody tr th {\n        vertical-align: top;\n    }\n\n    .dataframe thead th {\n        text-align: right;\n    }\n</style>\n<table border=\"1\" class=\"dataframe\">\n  <thead>\n    <tr style=\"text-align: right;\">\n      <th></th>\n      <th>Date</th>\n      <th>Open</th>\n      <th>High</th>\n      <th>Low</th>\n      <th>Close</th>\n      <th>Volume</th>\n      <th>Dividends</th>\n      <th>Stock Splits</th>\n    </tr>\n  </thead>\n  <tbody>\n    <tr>\n      <th>0</th>\n      <td>1980-12-12 00:00:00-05:00</td>\n      <td>0.099584</td>\n      <td>0.100017</td>\n      <td>0.099584</td>\n      <td>0.099584</td>\n      <td>469033600</td>\n      <td>0.0</td>\n      <td>0.0</td>\n    </tr>\n    <tr>\n      <th>1</th>\n      <td>1980-12-15 00:00:00-05:00</td>\n      <td>0.094821</td>\n      <td>0.094821</td>\n      <td>0.094388</td>\n      <td>0.094388</td>\n      <td>175884800</td>\n      <td>0.0</td>\n      <td>0.0</td>\n    </tr>\n    <tr>\n      <th>2</th>\n      <td>1980-12-16 00:00:00-05:00</td>\n      <td>0.087893</td>\n      <td>0.087893</td>\n      <td>0.087461</td>\n      <td>0.087461</td>\n      <td>105728000</td>\n      <td>0.0</td>\n      <td>0.0</td>\n    </tr>\n    <tr>\n      <th>3</th>\n      <td>1980-12-17 00:00:00-05:00</td>\n      <td>0.089625</td>\n      <td>0.090058</td>\n      <td>0.089625</td>\n      <td>0.089625</td>\n      <td>86441600</td>\n      <td>0.0</td>\n      <td>0.0</td>\n    </tr>\n    <tr>\n      <th>4</th>\n      <td>1980-12-18 00:00:00-05:00</td>\n      <td>0.092224</td>\n      <td>0.092657</td>\n      <td>0.092224</td>\n      <td>0.092224</td>\n      <td>73449600</td>\n      <td>0.0</td>\n      <td>0.0</td>\n    </tr>\n  </tbody>\n</table>\n</div>"
          },
          "metadata": {}
        }
      ],
      "execution_count": 3,
      "metadata": {
        "jupyter": {
          "source_hidden": false,
          "outputs_hidden": false
        },
        "nteract": {
          "transient": {
            "deleting": false
          }
        },
        "gather": {
          "logged": 1689649632403
        }
      }
    },
    {
      "cell_type": "code",
      "source": [
        "apple['Date'] = apple['Date'].str.split(' ').str[0]\r\n",
        "\r\n",
        "apple['Date'] = pd.to_datetime(apple['Date'])\r\n",
        "\r\n",
        "apple.set_index('Date', inplace=True)\r\n",
        "\r\n",
        "apple.index = apple.index.date\r\n",
        "\r\n",
        "apple.sort_index(inplace=True)\r\n",
        "\r\n",
        "apple.tail()"
      ],
      "outputs": [
        {
          "output_type": "execute_result",
          "execution_count": 7,
          "data": {
            "text/plain": "                  Open        High         Low       Close    Volume   \n2023-07-11  189.160004  189.300003  186.600006  188.080002  46638100  \\\n2023-07-12  189.679993  191.699997  188.470001  189.770004  60750200   \n2023-07-13  190.500000  191.190002  189.779999  190.539993  41342300   \n2023-07-14  190.229996  191.179993  189.630005  190.690002  41573900   \n2023-07-17  191.899994  193.440002  191.809998  192.931000  24965139   \n\n            Dividends  Stock Splits  \n2023-07-11        0.0           0.0  \n2023-07-12        0.0           0.0  \n2023-07-13        0.0           0.0  \n2023-07-14        0.0           0.0  \n2023-07-17        0.0           0.0  ",
            "text/html": "<div>\n<style scoped>\n    .dataframe tbody tr th:only-of-type {\n        vertical-align: middle;\n    }\n\n    .dataframe tbody tr th {\n        vertical-align: top;\n    }\n\n    .dataframe thead th {\n        text-align: right;\n    }\n</style>\n<table border=\"1\" class=\"dataframe\">\n  <thead>\n    <tr style=\"text-align: right;\">\n      <th></th>\n      <th>Open</th>\n      <th>High</th>\n      <th>Low</th>\n      <th>Close</th>\n      <th>Volume</th>\n      <th>Dividends</th>\n      <th>Stock Splits</th>\n    </tr>\n  </thead>\n  <tbody>\n    <tr>\n      <th>2023-07-11</th>\n      <td>189.160004</td>\n      <td>189.300003</td>\n      <td>186.600006</td>\n      <td>188.080002</td>\n      <td>46638100</td>\n      <td>0.0</td>\n      <td>0.0</td>\n    </tr>\n    <tr>\n      <th>2023-07-12</th>\n      <td>189.679993</td>\n      <td>191.699997</td>\n      <td>188.470001</td>\n      <td>189.770004</td>\n      <td>60750200</td>\n      <td>0.0</td>\n      <td>0.0</td>\n    </tr>\n    <tr>\n      <th>2023-07-13</th>\n      <td>190.500000</td>\n      <td>191.190002</td>\n      <td>189.779999</td>\n      <td>190.539993</td>\n      <td>41342300</td>\n      <td>0.0</td>\n      <td>0.0</td>\n    </tr>\n    <tr>\n      <th>2023-07-14</th>\n      <td>190.229996</td>\n      <td>191.179993</td>\n      <td>189.630005</td>\n      <td>190.690002</td>\n      <td>41573900</td>\n      <td>0.0</td>\n      <td>0.0</td>\n    </tr>\n    <tr>\n      <th>2023-07-17</th>\n      <td>191.899994</td>\n      <td>193.440002</td>\n      <td>191.809998</td>\n      <td>192.931000</td>\n      <td>24965139</td>\n      <td>0.0</td>\n      <td>0.0</td>\n    </tr>\n  </tbody>\n</table>\n</div>"
          },
          "metadata": {}
        }
      ],
      "execution_count": 7,
      "metadata": {
        "jupyter": {
          "source_hidden": false,
          "outputs_hidden": false
        },
        "nteract": {
          "transient": {
            "deleting": false
          }
        },
        "gather": {
          "logged": 1689649819946
        }
      }
    },
    {
      "cell_type": "markdown",
      "source": [
        "### Explore the data\r\n",
        "\r\n",
        "- Close: The price of AAPL when the stock market closes\r\n",
        "- High: The highest price of AAPL during that trading day\r\n",
        "- Low: The lowest price of AAPL during that trading day\r\n",
        "- Open: The price of AAPL when the stock market opens\r\n",
        "- Volume: How many shares of AAPL were traded that day"
      ],
      "metadata": {
        "nteract": {
          "transient": {
            "deleting": false
          }
        }
      }
    },
    {
      "cell_type": "code",
      "source": [],
      "outputs": [],
      "execution_count": null,
      "metadata": {
        "jupyter": {
          "source_hidden": false,
          "outputs_hidden": false
        },
        "nteract": {
          "transient": {
            "deleting": false
          }
        }
      }
    }
  ],
  "metadata": {
    "kernelspec": {
      "name": "python310-sdkv2",
      "language": "python",
      "display_name": "Python 3.10 - SDK v2"
    },
    "language_info": {
      "name": "python",
      "version": "3.10.10",
      "mimetype": "text/x-python",
      "codemirror_mode": {
        "name": "ipython",
        "version": 3
      },
      "pygments_lexer": "ipython3",
      "nbconvert_exporter": "python",
      "file_extension": ".py"
    },
    "microsoft": {
      "ms_spell_check": {
        "ms_spell_check_language": "en"
      },
      "host": {
        "AzureML": {
          "notebookHasBeenCompleted": true
        }
      }
    },
    "kernel_info": {
      "name": "python310-sdkv2"
    },
    "nteract": {
      "version": "nteract-front-end@1.0.0"
    }
  },
  "nbformat": 4,
  "nbformat_minor": 2
}